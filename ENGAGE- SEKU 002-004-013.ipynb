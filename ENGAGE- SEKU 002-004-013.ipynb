{
 "cells": [
  {
   "cell_type": "code",
   "execution_count": 3,
   "id": "f4412551-a421-42f5-bdaf-88be2a7b4fdd",
   "metadata": {},
   "outputs": [],
   "source": [
    "#importing libraries\n",
    "import pandas as pd\n",
    "import numpy as np  \n",
    "from sklearn import linear_model\n",
    "from sklearn.model_selection import train_test_split\n",
    "import matplotlib.pyplot as plt"
   ]
  },
  {
   "cell_type": "code",
   "execution_count": 4,
   "id": "5a84d667-1754-498b-8536-c07d89cccb40",
   "metadata": {},
   "outputs": [],
   "source": [
    "data=pd.read_csv(\"teenage_pregnancy.csv\")"
   ]
  },
  {
   "cell_type": "code",
   "execution_count": 7,
   "id": "6739d7e7-d114-4747-a256-06a91c130150",
   "metadata": {},
   "outputs": [
    {
     "data": {
      "text/html": [
       "<div>\n",
       "<style scoped>\n",
       "    .dataframe tbody tr th:only-of-type {\n",
       "        vertical-align: middle;\n",
       "    }\n",
       "\n",
       "    .dataframe tbody tr th {\n",
       "        vertical-align: top;\n",
       "    }\n",
       "\n",
       "    .dataframe thead th {\n",
       "        text-align: right;\n",
       "    }\n",
       "</style>\n",
       "<table border=\"1\" class=\"dataframe\">\n",
       "  <thead>\n",
       "    <tr style=\"text-align: right;\">\n",
       "      <th></th>\n",
       "      <th>age</th>\n",
       "      <th>poverty_level</th>\n",
       "      <th>Residence</th>\n",
       "      <th>region</th>\n",
       "      <th>access_to_reproductive_health_care</th>\n",
       "      <th>education_level</th>\n",
       "      <th>teenage_pregnancy</th>\n",
       "    </tr>\n",
       "  </thead>\n",
       "  <tbody>\n",
       "    <tr>\n",
       "      <th>0</th>\n",
       "      <td>16</td>\n",
       "      <td>Medium</td>\n",
       "      <td>Urban</td>\n",
       "      <td>Kiambu</td>\n",
       "      <td>Good</td>\n",
       "      <td>Primary</td>\n",
       "      <td>0</td>\n",
       "    </tr>\n",
       "    <tr>\n",
       "      <th>1</th>\n",
       "      <td>17</td>\n",
       "      <td>Medium</td>\n",
       "      <td>Traditional</td>\n",
       "      <td>Kitui</td>\n",
       "      <td>Moderate</td>\n",
       "      <td>Higher</td>\n",
       "      <td>0</td>\n",
       "    </tr>\n",
       "    <tr>\n",
       "      <th>2</th>\n",
       "      <td>15</td>\n",
       "      <td>Medium</td>\n",
       "      <td>Rural</td>\n",
       "      <td>Machakos</td>\n",
       "      <td>Good</td>\n",
       "      <td>Higher</td>\n",
       "      <td>0</td>\n",
       "    </tr>\n",
       "    <tr>\n",
       "      <th>3</th>\n",
       "      <td>17</td>\n",
       "      <td>Medium</td>\n",
       "      <td>Rural</td>\n",
       "      <td>Thika</td>\n",
       "      <td>Poor</td>\n",
       "      <td>Higher</td>\n",
       "      <td>1</td>\n",
       "    </tr>\n",
       "    <tr>\n",
       "      <th>4</th>\n",
       "      <td>17</td>\n",
       "      <td>High</td>\n",
       "      <td>Urban</td>\n",
       "      <td>Machakos</td>\n",
       "      <td>Poor</td>\n",
       "      <td>Higher</td>\n",
       "      <td>0</td>\n",
       "    </tr>\n",
       "    <tr>\n",
       "      <th>5</th>\n",
       "      <td>14</td>\n",
       "      <td>Medium</td>\n",
       "      <td>Urban</td>\n",
       "      <td>Machakos</td>\n",
       "      <td>Good</td>\n",
       "      <td>NaN</td>\n",
       "      <td>0</td>\n",
       "    </tr>\n",
       "    <tr>\n",
       "      <th>6</th>\n",
       "      <td>15</td>\n",
       "      <td>Medium</td>\n",
       "      <td>Traditional</td>\n",
       "      <td>Mandera</td>\n",
       "      <td>Good</td>\n",
       "      <td>Primary</td>\n",
       "      <td>0</td>\n",
       "    </tr>\n",
       "    <tr>\n",
       "      <th>7</th>\n",
       "      <td>15</td>\n",
       "      <td>High</td>\n",
       "      <td>Traditional</td>\n",
       "      <td>Mombasa</td>\n",
       "      <td>Poor</td>\n",
       "      <td>Higher</td>\n",
       "      <td>1</td>\n",
       "    </tr>\n",
       "    <tr>\n",
       "      <th>8</th>\n",
       "      <td>15</td>\n",
       "      <td>Low</td>\n",
       "      <td>Traditional</td>\n",
       "      <td>Garissa</td>\n",
       "      <td>Moderate</td>\n",
       "      <td>Higher</td>\n",
       "      <td>0</td>\n",
       "    </tr>\n",
       "    <tr>\n",
       "      <th>9</th>\n",
       "      <td>17</td>\n",
       "      <td>Low</td>\n",
       "      <td>Urban</td>\n",
       "      <td>Kiambu</td>\n",
       "      <td>Good</td>\n",
       "      <td>NaN</td>\n",
       "      <td>0</td>\n",
       "    </tr>\n",
       "    <tr>\n",
       "      <th>10</th>\n",
       "      <td>16</td>\n",
       "      <td>Low</td>\n",
       "      <td>Rural</td>\n",
       "      <td>Nyeri</td>\n",
       "      <td>Moderate</td>\n",
       "      <td>Secondary</td>\n",
       "      <td>0</td>\n",
       "    </tr>\n",
       "    <tr>\n",
       "      <th>11</th>\n",
       "      <td>15</td>\n",
       "      <td>Low</td>\n",
       "      <td>Rural</td>\n",
       "      <td>Machakos</td>\n",
       "      <td>Good</td>\n",
       "      <td>Secondary</td>\n",
       "      <td>0</td>\n",
       "    </tr>\n",
       "    <tr>\n",
       "      <th>12</th>\n",
       "      <td>18</td>\n",
       "      <td>Medium</td>\n",
       "      <td>Urban</td>\n",
       "      <td>Narok</td>\n",
       "      <td>Good</td>\n",
       "      <td>Higher</td>\n",
       "      <td>0</td>\n",
       "    </tr>\n",
       "    <tr>\n",
       "      <th>13</th>\n",
       "      <td>17</td>\n",
       "      <td>High</td>\n",
       "      <td>Rural</td>\n",
       "      <td>Kericho</td>\n",
       "      <td>Good</td>\n",
       "      <td>NaN</td>\n",
       "      <td>1</td>\n",
       "    </tr>\n",
       "    <tr>\n",
       "      <th>14</th>\n",
       "      <td>14</td>\n",
       "      <td>High</td>\n",
       "      <td>Urban</td>\n",
       "      <td>Isiolo</td>\n",
       "      <td>Poor</td>\n",
       "      <td>NaN</td>\n",
       "      <td>1</td>\n",
       "    </tr>\n",
       "  </tbody>\n",
       "</table>\n",
       "</div>"
      ],
      "text/plain": [
       "    age poverty_level    Residence    region  \\\n",
       "0    16        Medium        Urban    Kiambu   \n",
       "1    17        Medium  Traditional     Kitui   \n",
       "2    15        Medium        Rural  Machakos   \n",
       "3    17        Medium        Rural     Thika   \n",
       "4    17          High        Urban  Machakos   \n",
       "5    14        Medium        Urban  Machakos   \n",
       "6    15        Medium  Traditional   Mandera   \n",
       "7    15          High  Traditional   Mombasa   \n",
       "8    15           Low  Traditional   Garissa   \n",
       "9    17           Low        Urban    Kiambu   \n",
       "10   16           Low        Rural     Nyeri   \n",
       "11   15           Low        Rural  Machakos   \n",
       "12   18        Medium        Urban     Narok   \n",
       "13   17          High        Rural   Kericho   \n",
       "14   14          High        Urban    Isiolo   \n",
       "\n",
       "   access_to_reproductive_health_care education_level  teenage_pregnancy  \n",
       "0                                Good         Primary                  0  \n",
       "1                            Moderate          Higher                  0  \n",
       "2                                Good          Higher                  0  \n",
       "3                                Poor          Higher                  1  \n",
       "4                                Poor          Higher                  0  \n",
       "5                                Good             NaN                  0  \n",
       "6                                Good         Primary                  0  \n",
       "7                                Poor          Higher                  1  \n",
       "8                            Moderate          Higher                  0  \n",
       "9                                Good             NaN                  0  \n",
       "10                           Moderate       Secondary                  0  \n",
       "11                               Good       Secondary                  0  \n",
       "12                               Good          Higher                  0  \n",
       "13                               Good             NaN                  1  \n",
       "14                               Poor             NaN                  1  "
      ]
     },
     "execution_count": 7,
     "metadata": {},
     "output_type": "execute_result"
    }
   ],
   "source": [
    "data.head(15)"
   ]
  },
  {
   "cell_type": "code",
   "execution_count": 9,
   "id": "f4c6a789-83f6-48d1-86c0-644477cc2dde",
   "metadata": {},
   "outputs": [
    {
     "data": {
      "text/html": [
       "<div>\n",
       "<style scoped>\n",
       "    .dataframe tbody tr th:only-of-type {\n",
       "        vertical-align: middle;\n",
       "    }\n",
       "\n",
       "    .dataframe tbody tr th {\n",
       "        vertical-align: top;\n",
       "    }\n",
       "\n",
       "    .dataframe thead th {\n",
       "        text-align: right;\n",
       "    }\n",
       "</style>\n",
       "<table border=\"1\" class=\"dataframe\">\n",
       "  <thead>\n",
       "    <tr style=\"text-align: right;\">\n",
       "      <th></th>\n",
       "      <th>age</th>\n",
       "      <th>poverty_level</th>\n",
       "      <th>Residence</th>\n",
       "      <th>region</th>\n",
       "      <th>access_to_reproductive_health_care</th>\n",
       "      <th>education_level</th>\n",
       "      <th>teenage_pregnancy</th>\n",
       "    </tr>\n",
       "  </thead>\n",
       "  <tbody>\n",
       "    <tr>\n",
       "      <th>20438</th>\n",
       "      <td>14</td>\n",
       "      <td>Medium</td>\n",
       "      <td>Traditional</td>\n",
       "      <td>Nyeri</td>\n",
       "      <td>Moderate</td>\n",
       "      <td>Higher</td>\n",
       "      <td>0</td>\n",
       "    </tr>\n",
       "    <tr>\n",
       "      <th>20439</th>\n",
       "      <td>13</td>\n",
       "      <td>Low</td>\n",
       "      <td>Traditional</td>\n",
       "      <td>Machakos</td>\n",
       "      <td>Poor</td>\n",
       "      <td>Secondary</td>\n",
       "      <td>0</td>\n",
       "    </tr>\n",
       "    <tr>\n",
       "      <th>20440</th>\n",
       "      <td>17</td>\n",
       "      <td>High</td>\n",
       "      <td>Rural</td>\n",
       "      <td>Mandera</td>\n",
       "      <td>Good</td>\n",
       "      <td>Secondary</td>\n",
       "      <td>1</td>\n",
       "    </tr>\n",
       "    <tr>\n",
       "      <th>20441</th>\n",
       "      <td>13</td>\n",
       "      <td>Medium</td>\n",
       "      <td>Rural</td>\n",
       "      <td>Mombasa</td>\n",
       "      <td>Good</td>\n",
       "      <td>Primary</td>\n",
       "      <td>1</td>\n",
       "    </tr>\n",
       "    <tr>\n",
       "      <th>20442</th>\n",
       "      <td>16</td>\n",
       "      <td>High</td>\n",
       "      <td>Traditional</td>\n",
       "      <td>Narok</td>\n",
       "      <td>Good</td>\n",
       "      <td>Secondary</td>\n",
       "      <td>0</td>\n",
       "    </tr>\n",
       "    <tr>\n",
       "      <th>20443</th>\n",
       "      <td>17</td>\n",
       "      <td>High</td>\n",
       "      <td>Urban</td>\n",
       "      <td>Kitui</td>\n",
       "      <td>Poor</td>\n",
       "      <td>NaN</td>\n",
       "      <td>0</td>\n",
       "    </tr>\n",
       "    <tr>\n",
       "      <th>20444</th>\n",
       "      <td>16</td>\n",
       "      <td>Medium</td>\n",
       "      <td>Urban</td>\n",
       "      <td>Kiambu</td>\n",
       "      <td>Good</td>\n",
       "      <td>Secondary</td>\n",
       "      <td>0</td>\n",
       "    </tr>\n",
       "    <tr>\n",
       "      <th>20445</th>\n",
       "      <td>17</td>\n",
       "      <td>High</td>\n",
       "      <td>Urban</td>\n",
       "      <td>Nyeri</td>\n",
       "      <td>Moderate</td>\n",
       "      <td>Higher</td>\n",
       "      <td>0</td>\n",
       "    </tr>\n",
       "    <tr>\n",
       "      <th>20446</th>\n",
       "      <td>14</td>\n",
       "      <td>Low</td>\n",
       "      <td>Rural</td>\n",
       "      <td>Nairobi</td>\n",
       "      <td>Poor</td>\n",
       "      <td>Secondary</td>\n",
       "      <td>1</td>\n",
       "    </tr>\n",
       "    <tr>\n",
       "      <th>20447</th>\n",
       "      <td>15</td>\n",
       "      <td>Low</td>\n",
       "      <td>Rural</td>\n",
       "      <td>Eldoret</td>\n",
       "      <td>Good</td>\n",
       "      <td>Primary</td>\n",
       "      <td>0</td>\n",
       "    </tr>\n",
       "    <tr>\n",
       "      <th>20448</th>\n",
       "      <td>15</td>\n",
       "      <td>High</td>\n",
       "      <td>Traditional</td>\n",
       "      <td>Nakuru</td>\n",
       "      <td>Poor</td>\n",
       "      <td>Higher</td>\n",
       "      <td>1</td>\n",
       "    </tr>\n",
       "    <tr>\n",
       "      <th>20449</th>\n",
       "      <td>13</td>\n",
       "      <td>High</td>\n",
       "      <td>Traditional</td>\n",
       "      <td>Kisumu</td>\n",
       "      <td>Poor</td>\n",
       "      <td>Secondary</td>\n",
       "      <td>1</td>\n",
       "    </tr>\n",
       "    <tr>\n",
       "      <th>20450</th>\n",
       "      <td>18</td>\n",
       "      <td>Medium</td>\n",
       "      <td>Traditional</td>\n",
       "      <td>Nairobi</td>\n",
       "      <td>Good</td>\n",
       "      <td>Higher</td>\n",
       "      <td>0</td>\n",
       "    </tr>\n",
       "    <tr>\n",
       "      <th>20451</th>\n",
       "      <td>17</td>\n",
       "      <td>Low</td>\n",
       "      <td>Traditional</td>\n",
       "      <td>Kakamega</td>\n",
       "      <td>Good</td>\n",
       "      <td>Higher</td>\n",
       "      <td>1</td>\n",
       "    </tr>\n",
       "    <tr>\n",
       "      <th>20452</th>\n",
       "      <td>16</td>\n",
       "      <td>High</td>\n",
       "      <td>Urban</td>\n",
       "      <td>Nyeri</td>\n",
       "      <td>Good</td>\n",
       "      <td>Secondary</td>\n",
       "      <td>1</td>\n",
       "    </tr>\n",
       "  </tbody>\n",
       "</table>\n",
       "</div>"
      ],
      "text/plain": [
       "       age poverty_level    Residence    region  \\\n",
       "20438   14        Medium  Traditional     Nyeri   \n",
       "20439   13           Low  Traditional  Machakos   \n",
       "20440   17          High        Rural   Mandera   \n",
       "20441   13        Medium        Rural   Mombasa   \n",
       "20442   16          High  Traditional     Narok   \n",
       "20443   17          High        Urban     Kitui   \n",
       "20444   16        Medium        Urban    Kiambu   \n",
       "20445   17          High        Urban     Nyeri   \n",
       "20446   14           Low        Rural   Nairobi   \n",
       "20447   15           Low        Rural   Eldoret   \n",
       "20448   15          High  Traditional    Nakuru   \n",
       "20449   13          High  Traditional    Kisumu   \n",
       "20450   18        Medium  Traditional   Nairobi   \n",
       "20451   17           Low  Traditional  Kakamega   \n",
       "20452   16          High        Urban     Nyeri   \n",
       "\n",
       "      access_to_reproductive_health_care education_level  teenage_pregnancy  \n",
       "20438                           Moderate          Higher                  0  \n",
       "20439                               Poor       Secondary                  0  \n",
       "20440                               Good       Secondary                  1  \n",
       "20441                               Good         Primary                  1  \n",
       "20442                               Good       Secondary                  0  \n",
       "20443                               Poor             NaN                  0  \n",
       "20444                               Good       Secondary                  0  \n",
       "20445                           Moderate          Higher                  0  \n",
       "20446                               Poor       Secondary                  1  \n",
       "20447                               Good         Primary                  0  \n",
       "20448                               Poor          Higher                  1  \n",
       "20449                               Poor       Secondary                  1  \n",
       "20450                               Good          Higher                  0  \n",
       "20451                               Good          Higher                  1  \n",
       "20452                               Good       Secondary                  1  "
      ]
     },
     "execution_count": 9,
     "metadata": {},
     "output_type": "execute_result"
    }
   ],
   "source": [
    "data.tail(15)"
   ]
  },
  {
   "cell_type": "code",
   "execution_count": 11,
   "id": "3ef7c594-b671-43ab-8665-c087f58d441c",
   "metadata": {},
   "outputs": [
    {
     "data": {
      "text/html": [
       "<div>\n",
       "<style scoped>\n",
       "    .dataframe tbody tr th:only-of-type {\n",
       "        vertical-align: middle;\n",
       "    }\n",
       "\n",
       "    .dataframe tbody tr th {\n",
       "        vertical-align: top;\n",
       "    }\n",
       "\n",
       "    .dataframe thead th {\n",
       "        text-align: right;\n",
       "    }\n",
       "</style>\n",
       "<table border=\"1\" class=\"dataframe\">\n",
       "  <thead>\n",
       "    <tr style=\"text-align: right;\">\n",
       "      <th></th>\n",
       "      <th>age</th>\n",
       "      <th>teenage_pregnancy</th>\n",
       "    </tr>\n",
       "  </thead>\n",
       "  <tbody>\n",
       "    <tr>\n",
       "      <th>count</th>\n",
       "      <td>20453.000000</td>\n",
       "      <td>20453.000000</td>\n",
       "    </tr>\n",
       "    <tr>\n",
       "      <th>mean</th>\n",
       "      <td>15.497824</td>\n",
       "      <td>0.427615</td>\n",
       "    </tr>\n",
       "    <tr>\n",
       "      <th>std</th>\n",
       "      <td>1.709764</td>\n",
       "      <td>0.494745</td>\n",
       "    </tr>\n",
       "    <tr>\n",
       "      <th>min</th>\n",
       "      <td>13.000000</td>\n",
       "      <td>0.000000</td>\n",
       "    </tr>\n",
       "    <tr>\n",
       "      <th>25%</th>\n",
       "      <td>14.000000</td>\n",
       "      <td>0.000000</td>\n",
       "    </tr>\n",
       "    <tr>\n",
       "      <th>50%</th>\n",
       "      <td>16.000000</td>\n",
       "      <td>0.000000</td>\n",
       "    </tr>\n",
       "    <tr>\n",
       "      <th>75%</th>\n",
       "      <td>17.000000</td>\n",
       "      <td>1.000000</td>\n",
       "    </tr>\n",
       "    <tr>\n",
       "      <th>max</th>\n",
       "      <td>18.000000</td>\n",
       "      <td>1.000000</td>\n",
       "    </tr>\n",
       "  </tbody>\n",
       "</table>\n",
       "</div>"
      ],
      "text/plain": [
       "                age  teenage_pregnancy\n",
       "count  20453.000000       20453.000000\n",
       "mean      15.497824           0.427615\n",
       "std        1.709764           0.494745\n",
       "min       13.000000           0.000000\n",
       "25%       14.000000           0.000000\n",
       "50%       16.000000           0.000000\n",
       "75%       17.000000           1.000000\n",
       "max       18.000000           1.000000"
      ]
     },
     "execution_count": 11,
     "metadata": {},
     "output_type": "execute_result"
    }
   ],
   "source": [
    "data.describe()"
   ]
  },
  {
   "cell_type": "code",
   "execution_count": 13,
   "id": "5ad7d51e-a359-41ca-abc0-2af3de165241",
   "metadata": {},
   "outputs": [
    {
     "data": {
      "text/plain": [
       "(20453, 7)"
      ]
     },
     "execution_count": 13,
     "metadata": {},
     "output_type": "execute_result"
    }
   ],
   "source": [
    "data.shape"
   ]
  },
  {
   "cell_type": "code",
   "execution_count": 15,
   "id": "f9f79f0a-fba5-4145-b9c2-15bfc1ec7779",
   "metadata": {},
   "outputs": [
    {
     "data": {
      "text/plain": [
       "age                                      0\n",
       "poverty_level                            0\n",
       "Residence                                0\n",
       "region                                   0\n",
       "access_to_reproductive_health_care       0\n",
       "education_level                       5145\n",
       "teenage_pregnancy                        0\n",
       "dtype: int64"
      ]
     },
     "execution_count": 15,
     "metadata": {},
     "output_type": "execute_result"
    }
   ],
   "source": [
    "data.isnull().sum()"
   ]
  },
  {
   "cell_type": "code",
   "execution_count": 17,
   "id": "38d48093-9098-4e02-b931-ac72953bc294",
   "metadata": {},
   "outputs": [],
   "source": [
    "data.dropna(inplace=True)"
   ]
  },
  {
   "cell_type": "code",
   "execution_count": 19,
   "id": "feef8554-527f-4441-af13-69c30d6afa80",
   "metadata": {},
   "outputs": [
    {
     "data": {
      "text/plain": [
       "(15308, 7)"
      ]
     },
     "execution_count": 19,
     "metadata": {},
     "output_type": "execute_result"
    }
   ],
   "source": [
    "data.shape"
   ]
  },
  {
   "cell_type": "code",
   "execution_count": 21,
   "id": "d8adc62b-b18e-4886-affe-076240366a37",
   "metadata": {},
   "outputs": [
    {
     "data": {
      "text/plain": [
       "age                                   0\n",
       "poverty_level                         0\n",
       "Residence                             0\n",
       "region                                0\n",
       "access_to_reproductive_health_care    0\n",
       "education_level                       0\n",
       "teenage_pregnancy                     0\n",
       "dtype: int64"
      ]
     },
     "execution_count": 21,
     "metadata": {},
     "output_type": "execute_result"
    }
   ],
   "source": [
    "data.isnull().sum()"
   ]
  },
  {
   "cell_type": "code",
   "execution_count": 23,
   "id": "2955f770-3b7d-4788-b852-9f82ec20ac6a",
   "metadata": {},
   "outputs": [
    {
     "name": "stdout",
     "output_type": "stream",
     "text": [
      "0        False\n",
      "1        False\n",
      "2        False\n",
      "3        False\n",
      "4        False\n",
      "         ...  \n",
      "20448     True\n",
      "20449     True\n",
      "20450     True\n",
      "20451     True\n",
      "20452    False\n",
      "Length: 20453, dtype: bool\n"
     ]
    }
   ],
   "source": [
    "import pandas as pd \n",
    "from scipy import stats \n",
    "data=pd.read_csv(\"Teenage_Pregnancy.csv\")\n",
    "duplicates=data. duplicated()\n",
    "print(duplicates)"
   ]
  },
  {
   "cell_type": "code",
   "execution_count": 25,
   "id": "65704268-5e13-47ca-bb44-f1b8413e7108",
   "metadata": {},
   "outputs": [
    {
     "name": "stdout",
     "output_type": "stream",
     "text": [
      "\n",
      "Rows with out_of_range 'age':\n",
      "       age poverty_level    Residence    region  \\\n",
      "0       16        Medium        Urban    Kiambu   \n",
      "1       17        Medium  Traditional     Kitui   \n",
      "2       15        Medium        Rural  Machakos   \n",
      "3       17        Medium        Rural     Thika   \n",
      "4       17          High        Urban  Machakos   \n",
      "...    ...           ...          ...       ...   \n",
      "20448   15          High  Traditional    Nakuru   \n",
      "20449   13          High  Traditional    Kisumu   \n",
      "20450   18        Medium  Traditional   Nairobi   \n",
      "20451   17           Low  Traditional  Kakamega   \n",
      "20452   16          High        Urban     Nyeri   \n",
      "\n",
      "      access_to_reproductive_health_care education_level  teenage_pregnancy  \n",
      "0                                   Good         Primary                  0  \n",
      "1                               Moderate          Higher                  0  \n",
      "2                                   Good          Higher                  0  \n",
      "3                                   Poor          Higher                  1  \n",
      "4                                   Poor          Higher                  0  \n",
      "...                                  ...             ...                ...  \n",
      "20448                               Poor          Higher                  1  \n",
      "20449                               Poor       Secondary                  1  \n",
      "20450                               Good          Higher                  0  \n",
      "20451                               Good          Higher                  1  \n",
      "20452                               Good       Secondary                  1  \n",
      "\n",
      "[20453 rows x 7 columns]\n"
     ]
    }
   ],
   "source": [
    "import pandas as pd \n",
    "from scipy import stats\n",
    "csv_file='Teenage_Pregnancy.csv'\n",
    "df=pd.read_csv(csv_file)\n",
    "age_min, age_max= 18, 15\n",
    "out_of_range_age=df[(df['age']<age_min)|(df['age']>age_max)]\n",
    "print(\"\\nRows with out_of_range 'age':\")\n",
    "print(out_of_range_age)"
   ]
  },
  {
   "cell_type": "code",
   "execution_count": 27,
   "id": "1e1bbd92-2aae-4b5d-8559-d2357f09e909",
   "metadata": {},
   "outputs": [
    {
     "data": {
      "text/html": [
       "<div>\n",
       "<style scoped>\n",
       "    .dataframe tbody tr th:only-of-type {\n",
       "        vertical-align: middle;\n",
       "    }\n",
       "\n",
       "    .dataframe tbody tr th {\n",
       "        vertical-align: top;\n",
       "    }\n",
       "\n",
       "    .dataframe thead th {\n",
       "        text-align: right;\n",
       "    }\n",
       "</style>\n",
       "<table border=\"1\" class=\"dataframe\">\n",
       "  <thead>\n",
       "    <tr style=\"text-align: right;\">\n",
       "      <th></th>\n",
       "      <th>age</th>\n",
       "      <th>poverty_level</th>\n",
       "      <th>Residence</th>\n",
       "      <th>region</th>\n",
       "      <th>access_to_reproductive_health_care</th>\n",
       "      <th>education_level</th>\n",
       "      <th>teenage_pregnancy</th>\n",
       "    </tr>\n",
       "  </thead>\n",
       "  <tbody>\n",
       "    <tr>\n",
       "      <th>0</th>\n",
       "      <td>16</td>\n",
       "      <td>Medium</td>\n",
       "      <td>Urban</td>\n",
       "      <td>Kiambu</td>\n",
       "      <td>Good</td>\n",
       "      <td>Primary</td>\n",
       "      <td>0</td>\n",
       "    </tr>\n",
       "    <tr>\n",
       "      <th>1</th>\n",
       "      <td>17</td>\n",
       "      <td>Medium</td>\n",
       "      <td>Traditional</td>\n",
       "      <td>Kitui</td>\n",
       "      <td>Moderate</td>\n",
       "      <td>Higher</td>\n",
       "      <td>0</td>\n",
       "    </tr>\n",
       "    <tr>\n",
       "      <th>2</th>\n",
       "      <td>15</td>\n",
       "      <td>Medium</td>\n",
       "      <td>Rural</td>\n",
       "      <td>Machakos</td>\n",
       "      <td>Good</td>\n",
       "      <td>Higher</td>\n",
       "      <td>0</td>\n",
       "    </tr>\n",
       "    <tr>\n",
       "      <th>3</th>\n",
       "      <td>17</td>\n",
       "      <td>Medium</td>\n",
       "      <td>Rural</td>\n",
       "      <td>Thika</td>\n",
       "      <td>Poor</td>\n",
       "      <td>Higher</td>\n",
       "      <td>1</td>\n",
       "    </tr>\n",
       "    <tr>\n",
       "      <th>4</th>\n",
       "      <td>17</td>\n",
       "      <td>High</td>\n",
       "      <td>Urban</td>\n",
       "      <td>Machakos</td>\n",
       "      <td>Poor</td>\n",
       "      <td>Higher</td>\n",
       "      <td>0</td>\n",
       "    </tr>\n",
       "    <tr>\n",
       "      <th>5</th>\n",
       "      <td>14</td>\n",
       "      <td>Medium</td>\n",
       "      <td>Urban</td>\n",
       "      <td>Machakos</td>\n",
       "      <td>Good</td>\n",
       "      <td>NaN</td>\n",
       "      <td>0</td>\n",
       "    </tr>\n",
       "    <tr>\n",
       "      <th>6</th>\n",
       "      <td>15</td>\n",
       "      <td>Medium</td>\n",
       "      <td>Traditional</td>\n",
       "      <td>Mandera</td>\n",
       "      <td>Good</td>\n",
       "      <td>Primary</td>\n",
       "      <td>0</td>\n",
       "    </tr>\n",
       "    <tr>\n",
       "      <th>7</th>\n",
       "      <td>15</td>\n",
       "      <td>High</td>\n",
       "      <td>Traditional</td>\n",
       "      <td>Mombasa</td>\n",
       "      <td>Poor</td>\n",
       "      <td>Higher</td>\n",
       "      <td>1</td>\n",
       "    </tr>\n",
       "    <tr>\n",
       "      <th>8</th>\n",
       "      <td>15</td>\n",
       "      <td>Low</td>\n",
       "      <td>Traditional</td>\n",
       "      <td>Garissa</td>\n",
       "      <td>Moderate</td>\n",
       "      <td>Higher</td>\n",
       "      <td>0</td>\n",
       "    </tr>\n",
       "    <tr>\n",
       "      <th>9</th>\n",
       "      <td>17</td>\n",
       "      <td>Low</td>\n",
       "      <td>Urban</td>\n",
       "      <td>Kiambu</td>\n",
       "      <td>Good</td>\n",
       "      <td>NaN</td>\n",
       "      <td>0</td>\n",
       "    </tr>\n",
       "    <tr>\n",
       "      <th>10</th>\n",
       "      <td>16</td>\n",
       "      <td>Low</td>\n",
       "      <td>Rural</td>\n",
       "      <td>Nyeri</td>\n",
       "      <td>Moderate</td>\n",
       "      <td>Secondary</td>\n",
       "      <td>0</td>\n",
       "    </tr>\n",
       "    <tr>\n",
       "      <th>11</th>\n",
       "      <td>15</td>\n",
       "      <td>Low</td>\n",
       "      <td>Rural</td>\n",
       "      <td>Machakos</td>\n",
       "      <td>Good</td>\n",
       "      <td>Secondary</td>\n",
       "      <td>0</td>\n",
       "    </tr>\n",
       "    <tr>\n",
       "      <th>12</th>\n",
       "      <td>18</td>\n",
       "      <td>Medium</td>\n",
       "      <td>Urban</td>\n",
       "      <td>Narok</td>\n",
       "      <td>Good</td>\n",
       "      <td>Higher</td>\n",
       "      <td>0</td>\n",
       "    </tr>\n",
       "    <tr>\n",
       "      <th>13</th>\n",
       "      <td>17</td>\n",
       "      <td>High</td>\n",
       "      <td>Rural</td>\n",
       "      <td>Kericho</td>\n",
       "      <td>Good</td>\n",
       "      <td>NaN</td>\n",
       "      <td>1</td>\n",
       "    </tr>\n",
       "    <tr>\n",
       "      <th>14</th>\n",
       "      <td>14</td>\n",
       "      <td>High</td>\n",
       "      <td>Urban</td>\n",
       "      <td>Isiolo</td>\n",
       "      <td>Poor</td>\n",
       "      <td>NaN</td>\n",
       "      <td>1</td>\n",
       "    </tr>\n",
       "  </tbody>\n",
       "</table>\n",
       "</div>"
      ],
      "text/plain": [
       "    age poverty_level    Residence    region  \\\n",
       "0    16        Medium        Urban    Kiambu   \n",
       "1    17        Medium  Traditional     Kitui   \n",
       "2    15        Medium        Rural  Machakos   \n",
       "3    17        Medium        Rural     Thika   \n",
       "4    17          High        Urban  Machakos   \n",
       "5    14        Medium        Urban  Machakos   \n",
       "6    15        Medium  Traditional   Mandera   \n",
       "7    15          High  Traditional   Mombasa   \n",
       "8    15           Low  Traditional   Garissa   \n",
       "9    17           Low        Urban    Kiambu   \n",
       "10   16           Low        Rural     Nyeri   \n",
       "11   15           Low        Rural  Machakos   \n",
       "12   18        Medium        Urban     Narok   \n",
       "13   17          High        Rural   Kericho   \n",
       "14   14          High        Urban    Isiolo   \n",
       "\n",
       "   access_to_reproductive_health_care education_level  teenage_pregnancy  \n",
       "0                                Good         Primary                  0  \n",
       "1                            Moderate          Higher                  0  \n",
       "2                                Good          Higher                  0  \n",
       "3                                Poor          Higher                  1  \n",
       "4                                Poor          Higher                  0  \n",
       "5                                Good             NaN                  0  \n",
       "6                                Good         Primary                  0  \n",
       "7                                Poor          Higher                  1  \n",
       "8                            Moderate          Higher                  0  \n",
       "9                                Good             NaN                  0  \n",
       "10                           Moderate       Secondary                  0  \n",
       "11                               Good       Secondary                  0  \n",
       "12                               Good          Higher                  0  \n",
       "13                               Good             NaN                  1  \n",
       "14                               Poor             NaN                  1  "
      ]
     },
     "execution_count": 27,
     "metadata": {},
     "output_type": "execute_result"
    }
   ],
   "source": [
    "import pandas as pd\n",
    "import numpy as np\n",
    "import matplotlib.pyplot as plt\n",
    "import seaborn as sns\n",
    "from statsmodels.graphics.mosaicplot import mosaic\n",
    "df=pd.read_csv('Teenage_Pregnancy.csv')\n",
    "df.head(15)"
   ]
  },
  {
   "cell_type": "code",
   "execution_count": 29,
   "id": "e8e85945-9c1e-4773-95fb-d899182b3a8e",
   "metadata": {},
   "outputs": [
    {
     "name": "stdout",
     "output_type": "stream",
     "text": [
      "poverty_level\n",
      "High      6872\n",
      "Low       6868\n",
      "Medium    6713\n",
      "Name: count, dtype: int64\n"
     ]
    }
   ],
   "source": [
    "Teenage_Pregnancy=df['poverty_level'].value_counts()\n",
    "print(Teenage_Pregnancy)"
   ]
  },
  {
   "cell_type": "code",
   "execution_count": 31,
   "id": "d3e9e107-1cb0-4e91-a7b8-2d38d7e2a1e9",
   "metadata": {},
   "outputs": [
    {
     "name": "stdout",
     "output_type": "stream",
     "text": [
      "col_0          Frequency\n",
      "poverty_level           \n",
      "High                6872\n",
      "Low                 6868\n",
      "Medium              6713\n"
     ]
    }
   ],
   "source": [
    "freq_table=pd.crosstab(df['poverty_level'],\n",
    "'Frequency')\n",
    "print(freq_table)"
   ]
  },
  {
   "cell_type": "code",
   "execution_count": 33,
   "id": "576d8674-0b35-4593-b85b-661c8ae7ebc0",
   "metadata": {},
   "outputs": [
    {
     "name": "stdout",
     "output_type": "stream",
     "text": [
      "col_0                               Frequency\n",
      "access_to_reproductive_health_care           \n",
      "Good                                     6873\n",
      "Moderate                                 6794\n",
      "Poor                                     6786\n"
     ]
    }
   ],
   "source": [
    "freq_table=pd.crosstab(df['access_to_reproductive_health_care'],\n",
    "'Frequency')\n",
    "print(freq_table)"
   ]
  },
  {
   "cell_type": "code",
   "execution_count": 35,
   "id": "0f8ea8ee-eab2-4359-bb74-c25314ae8f1d",
   "metadata": {},
   "outputs": [
    {
     "name": "stdout",
     "output_type": "stream",
     "text": [
      "col_0     Frequency\n",
      "region             \n",
      "Eldoret        1162\n",
      "Garissa        1179\n",
      "Isiolo         1156\n",
      "Kakamega       1120\n",
      "Kericho        1137\n",
      "Kiambu         1109\n",
      "Kisumu         1114\n",
      "Kitui          1130\n",
      "Machakos       1113\n",
      "Mandera        1095\n",
      "Meru           1123\n",
      "Mombasa        1180\n",
      "Nairobi        1142\n",
      "Nakuru         1147\n",
      "Narok          1142\n",
      "Nyeri          1171\n",
      "Thika          1122\n",
      "Wajir          1111\n"
     ]
    }
   ],
   "source": [
    "freq_table=pd.crosstab(df['region'],\n",
    "'Frequency')\n",
    "print(freq_table)"
   ]
  },
  {
   "cell_type": "code",
   "execution_count": 37,
   "id": "b5edecc5-a0dd-42d1-ba40-889fa34e4b4e",
   "metadata": {},
   "outputs": [
    {
     "name": "stdout",
     "output_type": "stream",
     "text": [
      "education_level  Higher  Primary  Secondary\n",
      "poverty_level                              \n",
      "High               1626     1761       1728\n",
      "Low                1744     1760       1667\n",
      "Medium             1669     1678       1675\n"
     ]
    }
   ],
   "source": [
    "import pandas as pd\n",
    "import numpy as np\n",
    "df=pd.read_csv('Teenage_Pregnancy.csv')\n",
    "freq_table=pd.crosstab(df['poverty_level'],\n",
    "df['education_level'])\n",
    "print(freq_table)"
   ]
  },
  {
   "cell_type": "code",
   "execution_count": 39,
   "id": "38f9effd-2d18-4aa1-a37d-f4172439c9ba",
   "metadata": {},
   "outputs": [
    {
     "data": {
      "text/plain": [
       "([<matplotlib.patches.Wedge at 0x234651cf190>,\n",
       "  <matplotlib.patches.Wedge at 0x2346523a790>,\n",
       "  <matplotlib.patches.Wedge at 0x234652440d0>,\n",
       "  <matplotlib.patches.Wedge at 0x2346523b910>],\n",
       " [Text(0.8346339501101788, 0.7165097133490095, 'poverty_level'),\n",
       "  Text(-0.7165097133490093, 0.834633950110179, 'region'),\n",
       "  Text(-0.7578636302467385, -0.7972720476407253, 'education_level'),\n",
       "  Text(0.7972720121625676, -0.7578636675697357, ' access_to_reproductive_health_care')],\n",
       " [Text(0.4552548818782793, 0.39082348000855055, '22.6%'),\n",
       "  Text(-0.39082348000855044, 0.45525488187827945, '27.4%'),\n",
       "  Text(-0.41338016195276645, -0.4348756623494865, '25.8%'),\n",
       "  Text(0.4348756429977641, -0.41338018231076484, '24.2%')])"
      ]
     },
     "execution_count": 39,
     "metadata": {},
     "output_type": "execute_result"
    },
    {
     "data": {
      "image/png": "[encoded data removed]",
      "text/plain": [
       "<Figure size 640x480 with 1 Axes>"
      ]
     },
     "metadata": {},
     "output_type": "display_data"
    }
   ],
   "source": [
    "import matplotlib.pyplot as plt\n",
    "x=[14,17,16,15]\n",
    "age=['poverty_level', 'region','education_level',' access_to_reproductive_health_care']\n",
    "plt.pie(x, labels=age,autopct='%.1f%%')"
   ]
  },
  {
   "cell_type": "code",
   "execution_count": 41,
   "id": "549601c4-9eb2-46ab-b0f8-e8cf693d0436",
   "metadata": {},
   "outputs": [
    {
     "data": {
      "image/png": "[encoded data removed]",
      "text/plain": [
       "<Figure size 1000x500 with 1 Axes>"
      ]
     },
     "metadata": {},
     "output_type": "display_data"
    },
    {
     "data": {
      "text/plain": [
       "<BarContainer object of 5 artists>"
      ]
     },
     "execution_count": 41,
     "metadata": {},
     "output_type": "execute_result"
    },
    {
     "data": {
      "image/png": "[encoded data removed]",
      "text/plain": [
       "<Figure size 640x480 with 1 Axes>"
      ]
     },
     "metadata": {},
     "output_type": "display_data"
    }
   ],
   "source": [
    "import numpy as np \n",
    "import matplotlib.pyplot as plt\n",
    "data={ 'teenage_pregnancy':14,'poverty_level':17, 'Residence':16, 'region':15, 'access_to_reproductive_health_care':18}\n",
    "teenage_pregnancy=list(data.keys())\n",
    "values=list(data.values())\n",
    "fig=plt.figure(figsize=(10,5))\n",
    "plt.bar(teenage_pregnancy,values,color='green', width=0.4)\n",
    "plt.xlabel(\"teenage_pregnancy\")\n",
    "plt.ylabel(\"no of pregnancy\")\n",
    "plt.title(\"teenage pregnancy in diffrent regions\")\n",
    "plt.show()\n",
    "plt.barh(teenage_pregnancy,values,color='purple')"
   ]
  },
  {
   "cell_type": "code",
   "execution_count": 43,
   "id": "acaecf02-d09b-4ba0-a5cd-5a3a1e6d1c0b",
   "metadata": {},
   "outputs": [
    {
     "data": {
      "text/plain": [
       "<BarContainer object of 5 artists>"
      ]
     },
     "execution_count": 43,
     "metadata": {},
     "output_type": "execute_result"
    },
    {
     "data": {
      "image/png": "[encoded data removed]",
      "text/plain": [
       "<Figure size 640x480 with 1 Axes>"
      ]
     },
     "metadata": {},
     "output_type": "display_data"
    }
   ],
   "source": [
    "plt.barh(teenage_pregnancy,values,color='red')"
   ]
  },
  {
   "cell_type": "code",
   "execution_count": 45,
   "id": "4beb835a-97a8-46f8-9921-5362c2c3004c",
   "metadata": {},
   "outputs": [
    {
     "data": {
      "text/plain": [
       "<BarContainer object of 5 artists>"
      ]
     },
     "execution_count": 45,
     "metadata": {},
     "output_type": "execute_result"
    },
    {
     "data": {
      "image/png": "[encoded data removed]",
      "text/plain": [
       "<Figure size 640x480 with 1 Axes>"
      ]
     },
     "metadata": {},
     "output_type": "display_data"
    }
   ],
   "source": [
    "import numpy as np \n",
    "import matplotlib.pyplot as plt\n",
    "x=['Mombasa','Garissa','Kitui','Kiambu','Mandera']\n",
    "y1=[14,17,16,15,18]\n",
    "y2=[1180,1179,1130,1109,1095]\n",
    "plt.bar(x,y1,color='green')\n",
    "plt.bar(x,y2,bottom=y1,color='blue')"
   ]
  },
  {
   "cell_type": "code",
   "execution_count": 47,
   "id": "7c2064e4-9610-49fd-98e5-fd8253d429e7",
   "metadata": {},
   "outputs": [
    {
     "data": {
      "text/plain": [
       "Text(0, 0.5, 'region')"
      ]
     },
     "execution_count": 47,
     "metadata": {},
     "output_type": "execute_result"
    },
    {
     "data": {
      "image/png": "[encoded data removed]",
      "text/plain": [
       "<Figure size 640x480 with 1 Axes>"
      ]
     },
     "metadata": {},
     "output_type": "display_data"
    }
   ],
   "source": [
    "import pandas as pd\n",
    "import numpy as np\n",
    "import matplotlib.pyplot as plt\n",
    "import seaborn as sns\n",
    "from statsmodels.graphics.mosaicplot import mosaic\n",
    "df=pd.read_csv('Teenage_Pregnancy.csv')\n",
    "teenage_pregnancy_region=df[['age', 'region']]    \n",
    "#filter the  data for ages less than 15\n",
    "filtered_data=df[df['age']>15]\n",
    "plt.scatter(filtered_data['age'],filtered_data['region'], color= 'green')\n",
    "plt.title('age vs.teenage_pregnancy (ages>15)')\n",
    "plt.xlabel('age')\n",
    "plt.ylabel('region')"
   ]
  },
  {
   "cell_type": "code",
   "execution_count": 49,
   "id": "c40ef704-3b44-413c-8013-a2b285fdc3fa",
   "metadata": {},
   "outputs": [
    {
     "data": {
      "image/png": "[encoded data removed]",
      "text/plain": [
       "<Figure size 800x600 with 1 Axes>"
      ]
     },
     "metadata": {},
     "output_type": "display_data"
    }
   ],
   "source": [
    "import matplotlib.pyplot as plt\n",
    "data=pd.read_csv(\"Teenage_Pregnancy.csv\")\n",
    "plt.figure(figsize=(8,6))\n",
    "plt.hist(df['age'],bins=10,color='skyblue',edgecolor='black')\n",
    "plt.title('distribution of age')\n",
    "plt.xlabel('age')\n",
    "plt.ylabel('frequent')\n",
    "plt.show()"
   ]
  },
  {
   "cell_type": "code",
   "execution_count": 51,
   "id": "d8e99456-35fc-4a4e-95e6-a6c2ebd1f424",
   "metadata": {},
   "outputs": [],
   "source": [
    "#importing the libraries\n",
    "import pandas as pd\n",
    "import numpy as np\n",
    "from sklearn.linear_model import LogisticRegression\n",
    "import matplotlib.pyplot as plt\n",
    "from sklearn.model_selection import train_test_split\n",
    "from sklearn.metrics import accuracy_score, confusion_matrix, classification_report"
   ]
  },
  {
   "cell_type": "code",
   "execution_count": 53,
   "id": "db670f5b-43dc-47ef-8383-a1921b120029",
   "metadata": {},
   "outputs": [],
   "source": [
    "Teenage_Pregnancy=pd.read_csv(\"Teenage_Pregnancy.csv\")"
   ]
  },
  {
   "cell_type": "code",
   "execution_count": 55,
   "id": "a754d71d-1bcd-49aa-b4f1-7ef24058737d",
   "metadata": {},
   "outputs": [],
   "source": [
    "#Seperating the x and the y variables and converting them to numpy array\n",
    "X=Teenage_Pregnancy.drop(columns=[\"poverty_level\",\"region\"])\n",
    "y=Teenage_Pregnancy['teenage_pregnancy']\n",
    "X=X.to_numpy()\n",
    "y=y.to_numpy()"
   ]
  },
  {
   "cell_type": "code",
   "execution_count": 57,
   "id": "17c4e904-2d27-4711-b7da-34aff4217136",
   "metadata": {},
   "outputs": [],
   "source": [
    "#Splitting the data into training and testing data\n",
    "X_train, X_test, y_train, y_test = train_test_split(X, y, test_size=0.3, random_state=1111)"
   ]
  },
  {
   "cell_type": "code",
   "execution_count": 59,
   "id": "8c0b6d29-8f2c-4df9-8ab4-7eac19878b8f",
   "metadata": {},
   "outputs": [],
   "source": [
    "model=LogisticRegression()"
   ]
  },
  {
   "cell_type": "code",
   "execution_count": 61,
   "id": "a9ca0684-1b61-4d83-af91-fcce6dea19f3",
   "metadata": {},
   "outputs": [],
   "source": [
    "from sklearn.cluster import KMeans\n",
    "from sklearn.compose import ColumnTransformer\n",
    "from sklearn.preprocessing import StandardScaler, OneHotEncoder\n",
    "from sklearn.pipeline import Pipeline\n",
    "\n",
    "# Define categorical and numerical columns\n",
    "categorical_cols = ['Residence', 'access_to_reproductive_health_care', 'education_level', 'poverty_level','region']\n",
    "numerical_cols = [ 'teenage_pregnancy', 'age']\n",
    "\n",
    "# Create a ColumnTransformer for preprocessing\n",
    "preprocessor = ColumnTransformer(\n",
    "    transformers=[\n",
    "        ('num', StandardScaler(), numerical_cols),  # Standard scaling for numerical columns\n",
    "        ('cat', OneHotEncoder(), categorical_cols)  # One-hot encoding for categorical columns\n",
    "    ]\n",
    ")"
   ]
  },
  {
   "cell_type": "code",
   "execution_count": 63,
   "id": "442b29bd-29d3-437e-b340-e49c0e77e704",
   "metadata": {},
   "outputs": [],
   "source": [
    "import pandas as pd \n",
    "from sklearn.model_selection import train_test_split\n",
    "from sklearn.linear_model import LogisticRegression\n",
    "from sklearn.metrics import accuracy_score,classification_report"
   ]
  },
  {
   "cell_type": "code",
   "execution_count": 65,
   "id": "3d675f81-ebe1-4d7f-aa6a-3e8c4d0d2193",
   "metadata": {},
   "outputs": [],
   "source": [
    "#load dataset\n",
    "df=pd.read_csv('Teenage_Pregnancy.csv')"
   ]
  },
  {
   "cell_type": "code",
   "execution_count": 67,
   "id": "8fe85503-a271-4842-85bc-db0e54689082",
   "metadata": {},
   "outputs": [
    {
     "name": "stdout",
     "output_type": "stream",
     "text": [
      "Accuracy: 0.6297262059973925\n",
      "              precision    recall  f1-score   support\n",
      "\n",
      "           0       0.64      0.78      0.70      3476\n",
      "           1       0.60      0.44      0.51      2660\n",
      "\n",
      "    accuracy                           0.63      6136\n",
      "   macro avg       0.62      0.61      0.60      6136\n",
      "weighted avg       0.62      0.63      0.62      6136\n",
      "\n"
     ]
    }
   ],
   "source": [
    "# Feature selection\n",
    "X = df[['age', 'poverty_level', 'region', 'access_to_reproductive_health_care', 'education_level']]\n",
    "y = df['teenage_pregnancy']\n",
    "\n",
    "# Convert categorical variables into dummy/indicator variables\n",
    "X = pd.get_dummies(X, drop_first=True)\n",
    "\n",
    "# Split dataset into training and testing sets\n",
    "X_train, X_test, y_train, y_test = train_test_split(X, y, test_size=0.3, random_state=42)\n",
    "\n",
    "# Initialize and train the logistic regression model\n",
    "model = LogisticRegression(max_iter=1000)\n",
    "model.fit(X_train, y_train)\n",
    "\n",
    "# Make predictions\n",
    "y_pred = model.predict(X_test)\n",
    "\n",
    "# Evaluate the model\n",
    "print(\"Accuracy:\", accuracy_score(y_test, y_pred))\n",
    "print(classification_report(y_test, y_pred))\n"
   ]
  },
  {
   "cell_type": "code",
   "execution_count": 69,
   "id": "78ef9e3c-1010-4dc0-b96d-bcdd45b13551",
   "metadata": {},
   "outputs": [
    {
     "name": "stdout",
     "output_type": "stream",
     "text": [
      "Requirement already satisfied: streamlit in c:\\users\\admin\\anaconda3\\lib\\site-packages (1.30.0)Note: you may need to restart the kernel to use updated packages.\n",
      "\n",
      "Requirement already satisfied: altair<6,>=4.0 in c:\\users\\admin\\anaconda3\\lib\\site-packages (from streamlit) (5.0.1)\n",
      "Requirement already satisfied: blinker<2,>=1.0.0 in c:\\users\\admin\\anaconda3\\lib\\site-packages (from streamlit) (1.6.2)\n",
      "Requirement already satisfied: cachetools<6,>=4.0 in c:\\users\\admin\\anaconda3\\lib\\site-packages (from streamlit) (4.2.2)\n",
      "Requirement already satisfied: click<9,>=7.0 in c:\\users\\admin\\anaconda3\\lib\\site-packages (from streamlit) (8.1.7)\n",
      "Requirement already satisfied: importlib-metadata<8,>=1.4 in c:\\users\\admin\\anaconda3\\lib\\site-packages (from streamlit) (7.0.1)\n",
      "Requirement already satisfied: numpy<2,>=1.19.3 in c:\\users\\admin\\anaconda3\\lib\\site-packages (from streamlit) (1.26.4)\n",
      "Requirement already satisfied: packaging<24,>=16.8 in c:\\users\\admin\\anaconda3\\lib\\site-packages (from streamlit) (23.1)\n",
      "Requirement already satisfied: pandas<3,>=1.3.0 in c:\\users\\admin\\anaconda3\\lib\\site-packages (from streamlit) (2.2.2)\n",
      "Requirement already satisfied: pillow<11,>=7.1.0 in c:\\users\\admin\\anaconda3\\lib\\site-packages (from streamlit) (10.2.0)\n",
      "Requirement already satisfied: protobuf<5,>=3.20 in c:\\users\\admin\\anaconda3\\lib\\site-packages (from streamlit) (3.20.3)\n",
      "Requirement already satisfied: pyarrow>=6.0 in c:\\users\\admin\\anaconda3\\lib\\site-packages (from streamlit) (14.0.2)\n",
      "Requirement already satisfied: python-dateutil<3,>=2.7.3 in c:\\users\\admin\\anaconda3\\lib\\site-packages (from streamlit) (2.8.2)\n",
      "Requirement already satisfied: requests<3,>=2.27 in c:\\users\\admin\\anaconda3\\lib\\site-packages (from streamlit) (2.31.0)\n",
      "Requirement already satisfied: rich<14,>=10.14.0 in c:\\users\\admin\\anaconda3\\lib\\site-packages (from streamlit) (13.3.5)\n",
      "Requirement already satisfied: tenacity<9,>=8.1.0 in c:\\users\\admin\\anaconda3\\lib\\site-packages (from streamlit) (8.2.2)\n",
      "Requirement already satisfied: toml<2,>=0.10.1 in c:\\users\\admin\\anaconda3\\lib\\site-packages (from streamlit) (0.10.2)\n",
      "Requirement already satisfied: typing-extensions<5,>=4.3.0 in c:\\users\\admin\\anaconda3\\lib\\site-packages (from streamlit) (4.9.0)\n",
      "Requirement already satisfied: tzlocal<6,>=1.1 in c:\\users\\admin\\anaconda3\\lib\\site-packages (from streamlit) (2.1)\n",
      "Requirement already satisfied: validators<1,>=0.2 in c:\\users\\admin\\anaconda3\\lib\\site-packages (from streamlit) (0.18.2)\n",
      "Requirement already satisfied: gitpython!=3.1.19,<4,>=3.0.7 in c:\\users\\admin\\anaconda3\\lib\\site-packages (from streamlit) (3.1.37)\n",
      "Requirement already satisfied: pydeck<1,>=0.8.0b4 in c:\\users\\admin\\anaconda3\\lib\\site-packages (from streamlit) (0.8.0)\n",
      "Requirement already satisfied: tornado<7,>=6.0.3 in c:\\users\\admin\\anaconda3\\lib\\site-packages (from streamlit) (6.3.3)\n",
      "Requirement already satisfied: watchdog>=2.1.5 in c:\\users\\admin\\anaconda3\\lib\\site-packages (from streamlit) (2.1.6)\n",
      "Requirement already satisfied: jinja2 in c:\\users\\admin\\anaconda3\\lib\\site-packages (from altair<6,>=4.0->streamlit) (3.1.3)\n",
      "Requirement already satisfied: jsonschema>=3.0 in c:\\users\\admin\\anaconda3\\lib\\site-packages (from altair<6,>=4.0->streamlit) (4.19.2)\n",
      "Requirement already satisfied: toolz in c:\\users\\admin\\anaconda3\\lib\\site-packages (from altair<6,>=4.0->streamlit) (0.12.0)\n",
      "Requirement already satisfied: colorama in c:\\users\\admin\\anaconda3\\lib\\site-packages (from click<9,>=7.0->streamlit) (0.4.6)\n",
      "Requirement already satisfied: gitdb<5,>=4.0.1 in c:\\users\\admin\\anaconda3\\lib\\site-packages (from gitpython!=3.1.19,<4,>=3.0.7->streamlit) (4.0.7)\n",
      "Requirement already satisfied: zipp>=0.5 in c:\\users\\admin\\anaconda3\\lib\\site-packages (from importlib-metadata<8,>=1.4->streamlit) (3.17.0)\n",
      "Requirement already satisfied: pytz>=2020.1 in c:\\users\\admin\\anaconda3\\lib\\site-packages (from pandas<3,>=1.3.0->streamlit) (2023.3.post1)\n",
      "Requirement already satisfied: tzdata>=2022.7 in c:\\users\\admin\\anaconda3\\lib\\site-packages (from pandas<3,>=1.3.0->streamlit) (2023.3)\n",
      "Requirement already satisfied: six>=1.5 in c:\\users\\admin\\anaconda3\\lib\\site-packages (from python-dateutil<3,>=2.7.3->streamlit) (1.16.0)\n",
      "Requirement already satisfied: charset-normalizer<4,>=2 in c:\\users\\admin\\anaconda3\\lib\\site-packages (from requests<3,>=2.27->streamlit) (2.0.4)\n",
      "Requirement already satisfied: idna<4,>=2.5 in c:\\users\\admin\\anaconda3\\lib\\site-packages (from requests<3,>=2.27->streamlit) (3.4)\n",
      "Requirement already satisfied: urllib3<3,>=1.21.1 in c:\\users\\admin\\anaconda3\\lib\\site-packages (from requests<3,>=2.27->streamlit) (2.0.7)\n",
      "Requirement already satisfied: certifi>=2017.4.17 in c:\\users\\admin\\anaconda3\\lib\\site-packages (from requests<3,>=2.27->streamlit) (2024.7.4)\n",
      "Requirement already satisfied: markdown-it-py<3.0.0,>=2.2.0 in c:\\users\\admin\\anaconda3\\lib\\site-packages (from rich<14,>=10.14.0->streamlit) (2.2.0)\n",
      "Requirement already satisfied: pygments<3.0.0,>=2.13.0 in c:\\users\\admin\\anaconda3\\lib\\site-packages (from rich<14,>=10.14.0->streamlit) (2.15.1)\n",
      "Requirement already satisfied: decorator>=3.4.0 in c:\\users\\admin\\anaconda3\\lib\\site-packages (from validators<1,>=0.2->streamlit) (5.1.1)\n",
      "Requirement already satisfied: smmap<5,>=3.0.1 in c:\\users\\admin\\anaconda3\\lib\\site-packages (from gitdb<5,>=4.0.1->gitpython!=3.1.19,<4,>=3.0.7->streamlit) (4.0.0)\n",
      "Requirement already satisfied: MarkupSafe>=2.0 in c:\\users\\admin\\anaconda3\\lib\\site-packages (from jinja2->altair<6,>=4.0->streamlit) (2.1.3)\n",
      "Requirement already satisfied: attrs>=22.2.0 in c:\\users\\admin\\anaconda3\\lib\\site-packages (from jsonschema>=3.0->altair<6,>=4.0->streamlit) (23.1.0)\n",
      "Requirement already satisfied: jsonschema-specifications>=2023.03.6 in c:\\users\\admin\\anaconda3\\lib\\site-packages (from jsonschema>=3.0->altair<6,>=4.0->streamlit) (2023.7.1)\n",
      "Requirement already satisfied: referencing>=0.28.4 in c:\\users\\admin\\anaconda3\\lib\\site-packages (from jsonschema>=3.0->altair<6,>=4.0->streamlit) (0.30.2)\n",
      "Requirement already satisfied: rpds-py>=0.7.1 in c:\\users\\admin\\anaconda3\\lib\\site-packages (from jsonschema>=3.0->altair<6,>=4.0->streamlit) (0.10.6)\n",
      "Requirement already satisfied: mdurl~=0.1 in c:\\users\\admin\\anaconda3\\lib\\site-packages (from markdown-it-py<3.0.0,>=2.2.0->rich<14,>=10.14.0->streamlit) (0.1.0)\n"
     ]
    }
   ],
   "source": [
    "pip install streamlit"
   ]
  },
  {
   "cell_type": "code",
   "execution_count": 70,
   "id": "e7c471bc-6ea9-4f0a-838a-50394ae0c46c",
   "metadata": {},
   "outputs": [
    {
     "name": "stderr",
     "output_type": "stream",
     "text": [
      "2024-08-29 06:06:46.257 \n",
      "  \u001b[33m\u001b[1mWarning:\u001b[0m to view this Streamlit app on a browser, run it with the following\n",
      "  command:\n",
      "\n",
      "    streamlit run C:\\Users\\Admin\\anaconda3\\Lib\\site-packages\\ipykernel_launcher.py [ARGUMENTS]\n"
     ]
    }
   ],
   "source": [
    "import streamlit as st\n",
    "# Title of the app\n",
    "st.title('Hello World Streamlit App')\n",
    "\n",
    "# Display text\n",
    "st.write('Hello, World! This is my first Streamlit app.')\n",
    "\n",
    "# Add a slider widget\n",
    "number = st.slider('Pick a number', 0, 100, 50)\n",
    "st.write('You selected:', number)"
   ]
  },
  {
   "cell_type": "code",
   "execution_count": 71,
   "id": "9ee05131-43cb-467e-8e4d-b16c0ca93494",
   "metadata": {},
   "outputs": [],
   "source": [
    "import pandas as pd\n",
    "import numpy as np\n",
    "from sklearn.linear_model import LinearRegression\n",
    "from sklearn.model_selection import train_test_split\n",
    "from sklearn.metrics import accuracy_score, confusion_matrix, classification_report\n",
    "import matplotlib.pyplot as plt\n"
   ]
  },
  {
   "cell_type": "code",
   "execution_count": 72,
   "id": "9d13e4bb-735f-4dc1-8325-eb56ff84629a",
   "metadata": {},
   "outputs": [],
   "source": [
    "data=pd.read_csv(\"teenage_pregnancy.csv\")"
   ]
  },
  {
   "cell_type": "code",
   "execution_count": 73,
   "id": "b12ea53a-419c-4b0e-b388-c87f41aa6fd7",
   "metadata": {},
   "outputs": [
    {
     "data": {
      "text/html": [
       "<div>\n",
       "<style scoped>\n",
       "    .dataframe tbody tr th:only-of-type {\n",
       "        vertical-align: middle;\n",
       "    }\n",
       "\n",
       "    .dataframe tbody tr th {\n",
       "        vertical-align: top;\n",
       "    }\n",
       "\n",
       "    .dataframe thead th {\n",
       "        text-align: right;\n",
       "    }\n",
       "</style>\n",
       "<table border=\"1\" class=\"dataframe\">\n",
       "  <thead>\n",
       "    <tr style=\"text-align: right;\">\n",
       "      <th></th>\n",
       "      <th>age</th>\n",
       "      <th>poverty_level</th>\n",
       "      <th>Residence</th>\n",
       "      <th>region</th>\n",
       "      <th>access_to_reproductive_health_care</th>\n",
       "      <th>education_level</th>\n",
       "      <th>teenage_pregnancy</th>\n",
       "    </tr>\n",
       "  </thead>\n",
       "  <tbody>\n",
       "    <tr>\n",
       "      <th>0</th>\n",
       "      <td>16</td>\n",
       "      <td>Medium</td>\n",
       "      <td>Urban</td>\n",
       "      <td>Kiambu</td>\n",
       "      <td>Good</td>\n",
       "      <td>Primary</td>\n",
       "      <td>0</td>\n",
       "    </tr>\n",
       "    <tr>\n",
       "      <th>1</th>\n",
       "      <td>17</td>\n",
       "      <td>Medium</td>\n",
       "      <td>Traditional</td>\n",
       "      <td>Kitui</td>\n",
       "      <td>Moderate</td>\n",
       "      <td>Higher</td>\n",
       "      <td>0</td>\n",
       "    </tr>\n",
       "    <tr>\n",
       "      <th>2</th>\n",
       "      <td>15</td>\n",
       "      <td>Medium</td>\n",
       "      <td>Rural</td>\n",
       "      <td>Machakos</td>\n",
       "      <td>Good</td>\n",
       "      <td>Higher</td>\n",
       "      <td>0</td>\n",
       "    </tr>\n",
       "    <tr>\n",
       "      <th>3</th>\n",
       "      <td>17</td>\n",
       "      <td>Medium</td>\n",
       "      <td>Rural</td>\n",
       "      <td>Thika</td>\n",
       "      <td>Poor</td>\n",
       "      <td>Higher</td>\n",
       "      <td>1</td>\n",
       "    </tr>\n",
       "    <tr>\n",
       "      <th>4</th>\n",
       "      <td>17</td>\n",
       "      <td>High</td>\n",
       "      <td>Urban</td>\n",
       "      <td>Machakos</td>\n",
       "      <td>Poor</td>\n",
       "      <td>Higher</td>\n",
       "      <td>0</td>\n",
       "    </tr>\n",
       "  </tbody>\n",
       "</table>\n",
       "</div>"
      ],
      "text/plain": [
       "   age poverty_level    Residence    region  \\\n",
       "0   16        Medium        Urban    Kiambu   \n",
       "1   17        Medium  Traditional     Kitui   \n",
       "2   15        Medium        Rural  Machakos   \n",
       "3   17        Medium        Rural     Thika   \n",
       "4   17          High        Urban  Machakos   \n",
       "\n",
       "  access_to_reproductive_health_care education_level  teenage_pregnancy  \n",
       "0                               Good         Primary                  0  \n",
       "1                           Moderate          Higher                  0  \n",
       "2                               Good          Higher                  0  \n",
       "3                               Poor          Higher                  1  \n",
       "4                               Poor          Higher                  0  "
      ]
     },
     "execution_count": 73,
     "metadata": {},
     "output_type": "execute_result"
    }
   ],
   "source": [
    "data.head()"
   ]
  },
  {
   "cell_type": "code",
   "execution_count": 74,
   "id": "35f15120-a5b8-49fc-b003-60faf8d09811",
   "metadata": {},
   "outputs": [],
   "source": [
    "missing_data=data.isnull().sum()"
   ]
  },
  {
   "cell_type": "code",
   "execution_count": 76,
   "id": "4141ce2a-bb4a-452c-bdb4-675685312bc4",
   "metadata": {},
   "outputs": [
    {
     "data": {
      "text/plain": [
       "array([0, 1], dtype=int64)"
      ]
     },
     "execution_count": 76,
     "metadata": {},
     "output_type": "execute_result"
    }
   ],
   "source": [
    "data[\"teenage_pregnancy\"].unique()"
   ]
  },
  {
   "cell_type": "code",
   "execution_count": 47,
   "id": "6b8c4901-c2eb-494c-9703-aff56dc360d7",
   "metadata": {},
   "outputs": [
    {
     "name": "stdout",
     "output_type": "stream",
     "text": [
      "age                                      0\n",
      "poverty_level                            0\n",
      "Residence                                0\n",
      "region                                   0\n",
      "access_to_reproductive_health_care       0\n",
      "education_level                       5145\n",
      "teenage_pregnancy                        0\n",
      "dtype: int64\n"
     ]
    }
   ],
   "source": [
    "print(missing_data)"
   ]
  },
  {
   "cell_type": "code",
   "execution_count": 51,
   "id": "a84104c0-30ec-4ea5-a60e-1d418cd1f9c7",
   "metadata": {},
   "outputs": [],
   "source": [
    "#Create an X and y values\n",
    "X=data[[\"education_level\",\"poverty_level\",\"Residence\",\"region\"]]\n",
    "y=data[\"teenage_pregnancy\"]\n",
    "X=X.to_numpy()\n",
    "y=y.to_numpy()"
   ]
  },
  {
   "cell_type": "code",
   "execution_count": 53,
   "id": "631a2b22-1096-4008-b689-b25dd54b00ea",
   "metadata": {},
   "outputs": [],
   "source": [
    "X_train, X_test, y_train, y_test = train_test_split(X, y, test_size=0.3, random_state=42)"
   ]
  },
  {
   "cell_type": "code",
   "execution_count": null,
   "id": "f67e3dd7-4615-4626-930a-5bf44a9f68e1",
   "metadata": {},
   "outputs": [],
   "source": []
  }
 ],
 "metadata": {
  "kernelspec": {
   "display_name": "Python 3 (ipykernel)",
   "language": "python",
   "name": "python3"
  },
  "language_info": {
   "codemirror_mode": {
    "name": "ipython",
    "version": 3
   },
   "file_extension": ".py",
   "mimetype": "text/x-python",
   "name": "python",
   "nbconvert_exporter": "python",
   "pygments_lexer": "ipython3",
   "version": "3.11.7"
  }
 },
 "nbformat": 4,
 "nbformat_minor": 5
}
